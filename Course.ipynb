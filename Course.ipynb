{
  "nbformat": 4,
  "nbformat_minor": 0,
  "metadata": {
    "colab": {
      "name": "Course.ipynb",
      "version": "0.3.2",
      "provenance": [],
      "include_colab_link": true
    },
    "kernelspec": {
      "name": "python3",
      "display_name": "Python 3"
    }
  },
  "cells": [
    {
      "cell_type": "markdown",
      "metadata": {
        "id": "view-in-github",
        "colab_type": "text"
      },
      "source": [
        "[View in Colaboratory](https://colab.research.google.com/github/AmoDinho/Imperial-Data-Science/blob/master/Course.ipynb)"
      ]
    },
    {
      "metadata": {
        "id": "KRZVGXXE1fZd",
        "colab_type": "text"
      },
      "cell_type": "markdown",
      "source": [
        "# Course Outline"
      ]
    },
    {
      "metadata": {
        "id": "mWZVm7841mrl",
        "colab_type": "text"
      },
      "cell_type": "markdown",
      "source": [
        "Lets get you up and running with your data science quest\n",
        "\n",
        "My main goal is to get you up with data science for free and balancing your leaning with different resources. Most importantly it can be pricey to learn data science, pcs, clouyd monies, etc. this is not fair but i come to you with a way. \n"
      ]
    },
    {
      "metadata": {
        "id": "t-gB6cRZ3VCG",
        "colab_type": "text"
      },
      "cell_type": "markdown",
      "source": [
        "# Determine Your Skill Level\n",
        "\n",
        "\n",
        "[insert table]\n",
        "\n",
        "\n",
        "\n",
        "Once you have deterimend where you lie on this table I will show you where and what you should be doing. However, if you feel that you can start somewhere specific then please go ahead and then go back to course that you need that will plug up your knowledge."
      ]
    },
    {
      "metadata": {
        "id": "bT0dvLUo4LAf",
        "colab_type": "text"
      },
      "cell_type": "markdown",
      "source": [
        "\n",
        "# Your textbooks. \n",
        "\n",
        "Ml for humans\n",
        "Ml is fun\n",
        "Deeplearning book\n",
        "Berkley\n",
        "nnand deep learning \n",
        "PythonDataScienceHandbook\n",
        "WhirlwindTourOfPython"
      ]
    },
    {
      "metadata": {
        "id": "friM418q4S4-",
        "colab_type": "text"
      },
      "cell_type": "markdown",
      "source": [
        "# Courses"
      ]
    },
    {
      "metadata": {
        "id": "x9St5Q9Z4YHZ",
        "colab_type": "text"
      },
      "cell_type": "markdown",
      "source": [
        "## Serious stuff\n",
        "\n",
        "\n",
        "Principles of ml/ build dl models/ reinforcement models/ develop solutions & final project - ms\n",
        "Kaggle deep learning \n",
        "Fast ai \n",
        "Explain free ways\n",
        "Bonus \n",
        "\n",
        "Fastai complete run through \n",
        "Tf workshops\n",
        "Msft ai school\n"
      ]
    },
    {
      "metadata": {
        "id": "JWKwmxN04fjh",
        "colab_type": "text"
      },
      "cell_type": "markdown",
      "source": [
        "## Math & Workflow\n",
        "\n",
        "Ms - Essential Math for Machine Learning: Python Edition\n",
        "Saraj \n",
        "\n",
        "Workflow/Environment\n",
        "\n",
        "Learn about git \n",
        "\n",
        "Git hub course."
      ]
    },
    {
      "metadata": {
        "id": "Ko3WFHFS4pR-",
        "colab_type": "text"
      },
      "cell_type": "markdown",
      "source": [
        "## Machine learning \n",
        "\n",
        "Kaggle level 1 & 2  + R\n",
        "\n",
        "Ms - intro to ai & ds research methods \n",
        "\n",
        "Tensorflow crash course \n",
        "\n",
        "Kaggle pandas & data visualisation \n",
        "\n",
        "SQL - KAGGLE\n"
      ]
    },
    {
      "metadata": {
        "id": "WAJ9edWsixkd",
        "colab_type": "text"
      },
      "cell_type": "markdown",
      "source": [
        "## Python\n",
        "\n",
        "Kaggle - https://www.kaggle.com/learn/python\n",
        "MS - https://www.edx.org/course/introduction-to-python-for-data-science-1\n",
        "\n",
        "\n",
        "\n",
        "\n",
        "\n",
        "\n",
        "\n",
        "\n",
        "\n",
        "\n",
        "\n",
        "\n",
        "\n",
        "\n",
        "\n",
        "\n"
      ]
    }
  ]
}