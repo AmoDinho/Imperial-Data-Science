{
  "nbformat": 4,
  "nbformat_minor": 0,
  "metadata": {
    "colab": {
      "name": "Course.ipynb",
      "version": "0.3.2",
      "provenance": [],
      "include_colab_link": true
    },
    "kernelspec": {
      "name": "python3",
      "display_name": "Python 3"
    }
  },
  "cells": [
    {
      "cell_type": "markdown",
      "metadata": {
        "id": "view-in-github",
        "colab_type": "text"
      },
      "source": [
        "[View in Colaboratory](https://colab.research.google.com/github/AmoDinho/Imperial-Data-Science/blob/master/Course.ipynb)"
      ]
    },
    {
      "metadata": {
        "id": "KRZVGXXE1fZd",
        "colab_type": "text"
      },
      "cell_type": "markdown",
      "source": [
        "# Course Outline"
      ]
    },
    {
      "metadata": {
        "id": "mWZVm7841mrl",
        "colab_type": "text"
      },
      "cell_type": "markdown",
      "source": [
        "Lets get you up and running with your data science quest\n",
        "\n",
        "My main goal is to get you up with data science for free and balancing your leaning with different resources. Most importantly it can be pricey to learn data science, pcs, clouyd monies, etc. this is not fair but i come to you with a way. \n"
      ]
    },
    {
      "metadata": {
        "id": "t-gB6cRZ3VCG",
        "colab_type": "text"
      },
      "cell_type": "markdown",
      "source": [
        "# Determine Your Skill Level\n",
        "\n",
        "\n",
        "[insert table]\n",
        "\n",
        "\n",
        "\n",
        "Once you have deterimend where you lie on this table I will show you where and what you should be doing. However, if you feel that you can start somewhere specific then please go ahead and then go back to course that you need that will plug up your knowledge."
      ]
    },
    {
      "metadata": {
        "id": "bT0dvLUo4LAf",
        "colab_type": "text"
      },
      "cell_type": "markdown",
      "source": [
        "\n",
        "# Your textbooks. \n",
        "\n",
        "\n",
        "\n",
        "\n",
        "*  [Machine Learning for Humans🤖👶 ](https://medium.com/machine-learning-for-humans/why-machine-learning-matters-6164faf1df12)by Vishal Maini\n",
        "*  [ Machine Learning is Fun! ](https://medium.com/@ageitgey/machine-learning-is-fun-80ea3ec3c471)by Adam Geitgey \n",
        "*  [Deep Learning ](https://www.deeplearningbook.org/) by Ian Goodfellow and Yoshua Bengio and Aaron Courville\n",
        "* [Machine Learning Crash Course](https://ml.berkeley.edu/blog/tutorials/) by Berkeley\n",
        "* [Neural Networks and Deep Learning](http://neuralnetworksanddeeplearning.com/) by   Michael Nielsen\n",
        "* [Python Data Science Handbook ](https://jakevdp.github.io/PythonDataScienceHandbook/)by Jake Vanderplas\n",
        "*  [A Whirlwind Tour of Python](https://github.com/jakevdp/WhirlwindTourOfPython) by Jake Vanderplas\n",
        "\n",
        "These are meant to be your reference when you seek to understand something particular or reference the basics.\n"
      ]
    },
    {
      "metadata": {
        "id": "friM418q4S4-",
        "colab_type": "text"
      },
      "cell_type": "markdown",
      "source": [
        "# Courses"
      ]
    },
    {
      "metadata": {
        "id": "x9St5Q9Z4YHZ",
        "colab_type": "text"
      },
      "cell_type": "markdown",
      "source": [
        "## Serious stuff\n",
        "\n",
        "\n",
        "\n",
        "###Fast ai \n",
        "---------------------------------------------\n",
        "What:\n",
        "How:\n",
        "Link to your work:\n",
        "\n",
        "### Microsoft courses\n",
        "---------------------------------------------\n",
        "What:\n",
        "How:\n",
        "Link to your work:\n",
        "#### Principles of ml\n",
        "---------------------------------------------\n",
        "What:\n",
        "How:\n",
        "Link to your work:\n",
        "\n",
        "#### build dl models\n",
        "---------------------------------------------\n",
        "What:\n",
        "How:\n",
        "Link to your work:\n",
        "\n",
        "#### reinforcement models\n",
        "---------------------------------------------\n",
        "What:\n",
        "How:\n",
        "Link to your work:\n",
        "\n",
        "#### develop solutions \n",
        "---------------------------------------------\n",
        "What:\n",
        "How:\n",
        "Link to your work:\n",
        "\n",
        "\n",
        "\n",
        "#### final project (Optional)\n",
        "----------------------------------------------------------\n",
        "What:\n",
        "How:\n",
        "Link to your work:\n",
        "\n",
        "### Kaggle deep learning \n",
        "------------------------------------------------------\n",
        "What:\n",
        "How:\n",
        "Link to your work:\n",
        "\n",
        "\n",
        "### Bonus\n",
        "--------------------------------------------\n",
        "What:\n",
        "How:\n",
        "Link to your work:\n",
        "\n",
        "\n",
        "#### Msft ai school\n",
        "------------------------------------------------\n",
        "What:\n",
        "How:\n",
        "Link to your work:\n"
      ]
    },
    {
      "metadata": {
        "id": "JWKwmxN04fjh",
        "colab_type": "text"
      },
      "cell_type": "markdown",
      "source": [
        "## Math \n",
        "\n",
        "### Essential Math for Machine Learning: Python Edition\n",
        "\n",
        "--------------------------------------------\n",
        "\n",
        "What:\n",
        "How:\n",
        "Link to your work:\n",
        "\n",
        "\n",
        "\n",
        "##Workflow/Environment\n",
        "\n",
        "### Learn about git \n",
        "--------------------------------------------\n",
        "What:\n",
        "How:\n",
        "Link to your work:\n",
        "\n",
        "\n",
        "### Github course\n",
        "--------------------------------------------\n",
        "What:\n",
        "How:\n",
        "Link to your work:"
      ]
    },
    {
      "metadata": {
        "id": "Ko3WFHFS4pR-",
        "colab_type": "text"
      },
      "cell_type": "markdown",
      "source": [
        "## Machine learning \n",
        "\n",
        "### Kaggle level 1 & 2  + R\n",
        "--------------------------------------------\n",
        "\n",
        "What:\n",
        "How:\n",
        "Link to your work:\n",
        "\n",
        "\n",
        "\n",
        "### Ms \n",
        "\n",
        "### intro to ai \n",
        "--------------------------------------------\n",
        "\n",
        "What:\n",
        "How:\n",
        "Link to your work:\n",
        "\n",
        "### ds research methods \n",
        "--------------------------------------------\n",
        "\n",
        "What:\n",
        "How:\n",
        "Link to your work:\n",
        "\n",
        "### Tensorflow crash course \n",
        "--------------------------------------------\n",
        "\n",
        "What:\n",
        "How:\n",
        "Link to your work:\n",
        "\n",
        "\n",
        "\n",
        "### Kaggle \n",
        "\n",
        "### pandas \n",
        "--------------------------------------------\n",
        "\n",
        "What:\n",
        "How:\n",
        "Link to your work:\n",
        "\n",
        "### data visualisation \n",
        "--------------------------------------------\n",
        "\n",
        "What:\n",
        "How:\n",
        "Link to your work:\n",
        "\n",
        "### SQL - KAGGLE\n",
        "--------------------------------------------\n",
        "\n",
        "\n",
        "What:\n",
        "How:\n",
        "Link to your work:\n"
      ]
    },
    {
      "metadata": {
        "id": "WAJ9edWsixkd",
        "colab_type": "text"
      },
      "cell_type": "markdown",
      "source": [
        "## Python\n",
        "\n",
        "###Kaggle - https://www.kaggle.com/learn/python\n",
        "--------------------------------------------\n",
        "\n",
        "### MS - https://www.edx.org/course/introduction-to-python-for-data-science-1\n",
        "--------------------------------------------\n",
        "\n",
        "\n",
        "\n",
        "\n",
        "\n",
        "\n",
        "\n",
        "\n",
        "\n",
        "\n",
        "\n",
        "\n",
        "\n",
        "\n",
        "\n",
        "\n",
        "\n"
      ]
    }
  ]
}